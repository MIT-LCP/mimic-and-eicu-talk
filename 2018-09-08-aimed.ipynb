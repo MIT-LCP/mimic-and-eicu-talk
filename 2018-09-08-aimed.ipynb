{
 "cells": [
  {
   "cell_type": "markdown",
   "metadata": {
    "slideshow": {
     "slide_type": "slide"
    }
   },
   "source": [
    "# MIMIC-III and eICU-CRD: Freely available critical care databases\n",
    "\n",
    "## Tom Pollard\n",
    "\n",
    "### MIT Laboratory for Computational Physiology (MIT-LCP)\n",
    "#### AIMed Datathon: Sat 8 Sept 2018"
   ]
  },
  {
   "cell_type": "markdown",
   "metadata": {
    "slideshow": {
     "slide_type": "slide"
    }
   },
   "source": [
    "# Overview\n",
    "\n",
    "1. Datasets\n",
    "    - MIMIC-III\n",
    "    - eICU Collaborative Research Database\n",
    "2. Key points\n",
    "    - Context\n",
    "    - Distribution and access\n",
    "3. How are people using the data?\n",
    "4. Navigating the data \n",
    "5. Reproducibility and final points"
   ]
  },
  {
   "cell_type": "markdown",
   "metadata": {
    "slideshow": {
     "slide_type": "slide"
    }
   },
   "source": [
    "# Datasets"
   ]
  },
  {
   "cell_type": "markdown",
   "metadata": {
    "slideshow": {
     "slide_type": "subslide"
    }
   },
   "source": [
    "## `http://mimic.physionet.org`\n",
    "\n",
    "![MIMIC website](./images/mimicwebsite.png) "
   ]
  },
  {
   "cell_type": "markdown",
   "metadata": {
    "slideshow": {
     "slide_type": "subslide"
    }
   },
   "source": [
    "# MIMIC-III (**v1.4**)\n",
    "\n",
    "MIMIC-III = Medical Information Mart for Intensive Care\n",
    "\n",
    "- Freely available! \n",
    "- **Single Centre**: Beth Israel Deaconess Medical Centre\n",
    "    - U.S. Based (Boston, MA)\n",
    "    - Has MICU, SICU, CCU, CSRU, TSICU, ...\n",
    "- **Detailed in-ICU** information derived from: electronic medical records, critical care information systems\n",
    "- **Limited outside-of-ICU** information (social security death masterfile)\n",
    "- \\>60,000 ICU stays, \\>40,000 patients (2002-2012)"
   ]
  },
  {
   "cell_type": "markdown",
   "metadata": {
    "slideshow": {
     "slide_type": "subslide"
    }
   },
   "source": [
    "## `http://eicu-crd.mit.edu`\n",
    "\n",
    "![eICU-CRD website](./images/eicuwebsite.png)"
   ]
  },
  {
   "cell_type": "markdown",
   "metadata": {
    "slideshow": {
     "slide_type": "subslide"
    }
   },
   "source": [
    "# eICU Collaborative Research Database (**v2.0**)\n",
    "\n",
    "- Freely available! \n",
    "- **Multi-Centre**: Sourced from Philips eICU Telehealth Program.\n",
    "    - \\> 250 ICUs across the United States\n",
    "    - Has MICU, SICU, CCU, ...\n",
    "- **Detailed in-ICU** information derived from: electronic medical records, critical care information systems\n",
    "- **Limited outside-of-ICU** information.\n",
    "- **~200,000 stays between 2014 and 2015** (private dataset x10 larger)\n",
    "- **Wide variation in data quality** between hospitals"
   ]
  },
  {
   "cell_type": "markdown",
   "metadata": {},
   "source": [
    "# Why put effort into sharing these datasets?\n",
    "\n",
    "- For reproducibility.\n",
    "- For benchmarking.\n",
    "- For educational opportunities.\n",
    "- For collaboration opportunities.\n",
    "- To encourage others to do likewise.\n",
    "\n",
    "... and ultimately because it **accelerates health research**."
   ]
  },
  {
   "cell_type": "markdown",
   "metadata": {
    "slideshow": {
     "slide_type": "slide"
    }
   },
   "source": [
    "# Key points"
   ]
  },
  {
   "cell_type": "markdown",
   "metadata": {
    "slideshow": {
     "slide_type": "subslide"
    }
   },
   "source": [
    "# Real patients\n",
    "\n",
    "![ICU patients](./images/icu_patient.png)\n",
    "\n",
    "- The data is from real patients."
   ]
  },
  {
   "cell_type": "markdown",
   "metadata": {
    "slideshow": {
     "slide_type": "subslide"
    }
   },
   "source": [
    "# Real data\n",
    "\n",
    "![MIMIC on Reddit](./images/reddit.png)\n",
    "\n",
    "- The data does not come in nice, tidy spreadsheets.\n",
    "- The data was not collected especially for us to use for research."
   ]
  },
  {
   "cell_type": "markdown",
   "metadata": {
    "slideshow": {
     "slide_type": "subslide"
    }
   },
   "source": [
    "# Distribution\n",
    "\n",
    "- Gaining access requires signing a Data Use Agreement and taking a free, online course in human research\n",
    "- Data typically shared as CSVs with build scripts\n",
    "- Updates are by formal versioned releases\n",
    "\n",
    "![MIMIC Data Use Agreement](./images/mimicdua.png)\n"
   ]
  },
  {
   "cell_type": "markdown",
   "metadata": {
    "slideshow": {
     "slide_type": "subslide"
    }
   },
   "source": [
    "# Datathon access\n",
    "\n",
    "![Google Cloud](./images/google_cloud.png)"
   ]
  },
  {
   "cell_type": "markdown",
   "metadata": {
    "slideshow": {
     "slide_type": "slide"
    }
   },
   "source": [
    "# How are people using the data?"
   ]
  },
  {
   "cell_type": "markdown",
   "metadata": {
    "slideshow": {
     "slide_type": "subslide"
    }
   },
   "source": [
    "# \\>20 courses worldwide\n",
    "\n",
    "- Columbia University (Noémie Elhadad). [BINF G4002 Methods II: Computational Methods in Biomedical Informatics](https://www.dbmi.columbia.edu/for-current-staff-students/courses/)\n",
    "- Georgia Tech (Jimeng Sun). [CSE8803 Big Data Analytics for Healthcare](http://www.sunlab.org/teaching/cse8803/)\n",
    "- Stanford (Nigam Shah). [BIOMEDIN 215 Data Driven Medicine](http://shahlab.stanford.edu/biomedin215)\n",
    "- University of Texas at Austin (Joydeep Ghosh). [EE 381V: (Advanced Data Mining](http://hercules.ece.utexas.edu/ghosh/bdah-f15.htm)\n",
    "- Berkeley. [Data Science W266: Natural Language Processing with Deep Learning](https://www.ischool.berkeley.edu/courses/datasci/266)\n",
    "- Ludwig Maximilian University of Munich. [Recent Developments in Biostatistics (elective for \"Clinical Epidemiology\" MSc)](http://www.en.msc-epidemiologie.med.uni-muenchen.de/msc/programme/modules/index.html)\n",
    "- Yale Center for Medical Informatics (Cynthia Brandt & Kei-Hoi Cheung). CBB750 Core Topics in Biomedical Informatics and Data Science.\n",
    "- George Washington University (L Davidson). [INFR 6101. Principles of Medical Informatics](https://my.gwu.edu/mod/pws/courses.cfm?campId=1&termId=201701&subjId=INFR)\n",
    "- Seville University (José Troyano). [Applied Data Mining](http://www.us.es/estudios/grados/plan_226/asignatura_2260060).\n",
    "- Udacity. [Health Informatics in the Cloud](https://www.udacity.com/course/health-informatics-in-the-cloud--ud809#)"
   ]
  },
  {
   "cell_type": "markdown",
   "metadata": {
    "slideshow": {
     "slide_type": "subslide"
    }
   },
   "source": [
    "# Global Open Source Severity of Illness Score (GOSSIS)\n",
    "\n",
    "- How GOSSIS differs from APACHE-IV:\n",
    "    - Uses more heterogeneous data.\n",
    "    - Uses min/max (mostly) instead of 'worst'.\n",
    "    - Does not bin predictors.\n",
    "    - Integrates other sources of information for missing data, instead of assuming 'normal'.\n",
    "    - Takes a hierarchical approach for diagnoses\n",
    "\n",
    "![GOSSIS](./images/gossis.png)"
   ]
  },
  {
   "cell_type": "markdown",
   "metadata": {
    "slideshow": {
     "slide_type": "subslide"
    }
   },
   "source": [
    "# Evaluating sepsis criteria\n",
    "\n",
    "- Assessed five methods of identifying sepsis in electronic health records, and found that all five had varying cohort sizes and severity of illness as measured by in-hospital mortality rate\n",
    "- Future studies on sepsis should recognize the differences in outcome incidence among identification methods and contextualize their findings according to the different cohorts identified.\n",
    "\n",
    "![Sepsis-3](./images/sepsis3.png)\n",
    "\n",
    "> Johnson AEW, Aboab J, Raffa J, Pollard T, Deliberato R, Celi LA, Stone, D. A Comparative Analysis of Sepsis Identification Methods in an Electronic Database. Critical Care Medicine (2018). http://dx.doi.org/10.1097/CCM.0000000000002965"
   ]
  },
  {
   "cell_type": "markdown",
   "metadata": {
    "slideshow": {
     "slide_type": "subslide"
    }
   },
   "source": [
    "# Conferences (e.g. of 26 papers MLHC 2017...)\n",
    "\n",
    "- [Generating Multi-label Discrete Patient Records using Generative Adversarial Networks](http://proceedings.mlr.press/v68/choi17a/choi17a.pdf)\n",
    "- [Continuous State-Space Models for Optimal Sepsis Treatment: a Deep Reinforcement Learning Approach](http://proceedings.mlr.press/v68/raghu17a/raghu17a.pdf)\n",
    "- [Marked Point Process for Severity of Illness Assessment](http://proceedings.mlr.press/v68/islam17a/islam17a.pdf)\n",
    "- [Piecewise-constant parametric approximations for survival learning](http://proceedings.mlr.press/v68/weiss17a/weiss17a.pdf)\n",
    "- [Diagnostic Inferencing via Improving Clinical Concept Extraction with Deep Reinforcement Learning: A Preliminary Study](http://proceedings.mlr.press/v68/ling17a/ling17a.pdf)\n",
    "- [Clinical Intervention Prediction and Understanding with Deep Neural Networks](http://proceedings.mlr.press/v68/suresh17a/suresh17a.pdf)\n",
    "- [Reproducibility in critical care: a mortality prediction case study](http://proceedings.mlr.press/v68/johnson17a/johnson17a.pdf)\n",
    "\n",
    "![MLHC 2017](./images/MLHC.png)\n"
   ]
  },
  {
   "cell_type": "markdown",
   "metadata": {
    "slideshow": {
     "slide_type": "subslide"
    }
   },
   "source": [
    "# Publications\n",
    "\n",
    "![MIMIC-III citations](./images/mimiccitations.png)\n",
    "\n"
   ]
  },
  {
   "cell_type": "markdown",
   "metadata": {
    "slideshow": {
     "slide_type": "slide"
    }
   },
   "source": [
    "# Navigating the data"
   ]
  },
  {
   "cell_type": "markdown",
   "metadata": {
    "slideshow": {
     "slide_type": "subslide"
    }
   },
   "source": [
    "# `patients`, `admissions` and `icustays` \n",
    "\n",
    "![patient tracking tables](./images/subj_hadm_icustays.png)"
   ]
  },
  {
   "cell_type": "markdown",
   "metadata": {
    "slideshow": {
     "slide_type": "subslide"
    }
   },
   "source": [
    "# Events tables\n",
    "\n",
    "- chartevents: Charted observations for a patient\n",
    "- labevents: Lab measurements both within hospital and (sometimes) outpatient clinics\n",
    "- inputevents: Input fluids (e.g. intravenous medications)\n",
    "- microbiologyevents: Microbiology measurements and sensitivities\n",
    "- <s>noteevents</s>: Deidentified patient notes"
   ]
  },
  {
   "cell_type": "markdown",
   "metadata": {
    "slideshow": {
     "slide_type": "subslide"
    }
   },
   "source": [
    "# Other tables\n",
    "\n",
    "- diagnoses_icd: Hospital assigned diagnosis codes.\n",
    "- procedures_icd: Hospital assigned procedure codes\n",
    "- caregivers: Caregivers who have recorded data\n",
    "- prescriptions: Medications ordered for a patient\n",
    "- ...\n",
    "\n",
    "More tables and full documentation: https://mimic.physionet.org/"
   ]
  },
  {
   "cell_type": "markdown",
   "metadata": {
    "slideshow": {
     "slide_type": "subslide"
    }
   },
   "source": [
    "# Dictionary tables\n",
    "\n",
    "- d_cpt\n",
    "- d_icd_diagnoses\n",
    "- d_icd_procedures\n",
    "- d_items\n",
    "- d_labitems\n",
    "\n",
    "Lookup tables for main tables."
   ]
  },
  {
   "cell_type": "markdown",
   "metadata": {
    "slideshow": {
     "slide_type": "subslide"
    }
   },
   "source": [
    "# `select * from d_items WHERE label ilike '%verbal%'`\n",
    "\n",
    "![verbal](./images/concepts_query1.png)"
   ]
  },
  {
   "cell_type": "markdown",
   "metadata": {
    "slideshow": {
     "slide_type": "subslide"
    }
   },
   "source": [
    "# `select * from chartevents WHERE itemid in (723,223900)`\n",
    "\n",
    "![verbal](./images/concepts_query2.png)\n",
    "\n",
    "Please use the code repository. GCS code already available and validated."
   ]
  },
  {
   "cell_type": "markdown",
   "metadata": {
    "slideshow": {
     "slide_type": "subslide"
    }
   },
   "source": [
    "# Reusable code\n",
    "\n",
    "![MIMIC Code Repository](./images/mimiccoderepo.png)"
   ]
  },
  {
   "cell_type": "markdown",
   "metadata": {
    "slideshow": {
     "slide_type": "subslide"
    }
   },
   "source": [
    "# Concepts\n",
    "\n",
    "- Code for: severity of illness scales, sepsis definitions, fluid balance, available in code repository.\n",
    "- Also available on Colab/bigquery. No need to run code to get concepts!\n",
    "\n",
    "- I often use:\n",
    "    - Elixhauser (comorbidity burden index)\n",
    "    - SOFA\n",
    "    - OASIS (alternative to APACHE)\n",
    "    - Angus Sepsis Definition\n",
    "    - Ventilation durations.\n",
    "    \n",
    "- Tutorials online:\n",
    "    - e.g. Notebooks at: https://eicu-crd.mit.edu/tutorials/admissiondrug/\n",
    "\n",
    "**Please use these resources!** We are happy to incorporate your contributions to improve the concepts!"
   ]
  },
  {
   "cell_type": "markdown",
   "metadata": {
    "slideshow": {
     "slide_type": "subslide"
    }
   },
   "source": [
    "# FAQs\n",
    "\n",
    "**Q1. I think there is something wrong with the dates. They are all in 21xx.**    \n",
    "A1. This is part of the deidentification process. Within a patient all intervals are preserved. Between patients, the intervals are not relevant.\n",
    "\n",
    "**Q2. Why are there patients that are 300 years old?**  \n",
    "A2. This is part of the deidentification process. Under HIPAA, a patient’s age > 89 is protected health information. Be careful with analysis of age!\n",
    "\n",
    "**Q3. How do I find a patient’s first ICU stay?**  \n",
    "A3. Use the icustay_detail concept table and have a look at: icustay_seq\n",
    "\n",
    "**Q4. How do I continue on with my project after the datathon?**   \n",
    "A4. We’ll talk more about it tomorrow, but for MIMIC III and eICU-CRD you would need to sign a similar data use agreement and take a course on research on human research."
   ]
  },
  {
   "cell_type": "markdown",
   "metadata": {
    "slideshow": {
     "slide_type": "subslide"
    }
   },
   "source": [
    "# MIMIC: strengths and limitations\n",
    "\n",
    "**Strengths**:  \n",
    "1 Good documentation.\n",
    "2 Good preexisting code.\n",
    "3 Large community and literature.\n",
    "4 Provider notes available **\n",
    "\n",
    "**Limitations**:  \n",
    "1 Data is slightly stale (2001-2012).\n",
    "2 Smaller sample size when compared with eICU-CRD/ANZICS.\n",
    "3 Switchover from Carevue to Metavision can complicate extraction.\n",
    "4 Generated from a single center."
   ]
  },
  {
   "cell_type": "markdown",
   "metadata": {
    "slideshow": {
     "slide_type": "subslide"
    }
   },
   "source": [
    "# eICU Database: strengths and limitations\n",
    "\n",
    "**Strengths**:  \n",
    "1 Good documentation.  \n",
    "2 Good preexisting code.  \n",
    "\n",
    "**Limitations**:  \n",
    "1 New data (2014-2015).  \n",
    "2 Little prior literature.  \n",
    "3 Data quality is highly variable between hospitals.  "
   ]
  },
  {
   "cell_type": "markdown",
   "metadata": {
    "slideshow": {
     "slide_type": "slide"
    }
   },
   "source": [
    "# Reproducibility\n",
    "\n"
   ]
  },
  {
   "cell_type": "markdown",
   "metadata": {
    "slideshow": {
     "slide_type": "subslide"
    }
   },
   "source": [
    "# Reproducibility in critical care\n",
    "\n",
    "- Review 28 published mortality prediction models using MIMIC. \n",
    "- Attempt to reproduce the cohorts (+ bonus, compare performance to logistic regression).\n",
    "- 75% of reproduced cohorts differed by >1000 patients. Percent mortality differed by up to ~20%. \n",
    "\n",
    "![MLHC results](./images/mlhc-paper-results.png)\n",
    "\n",
    "> Johnson AEW, Pollard T, Mark RG. Reproducibility in critical care: a mortality prediction case study. Proceedings of the 2nd Machine Learning for Healthcare Conference (2017)."
   ]
  },
  {
   "cell_type": "markdown",
   "metadata": {
    "slideshow": {
     "slide_type": "subslide"
    }
   },
   "source": [
    "# Practical steps\n",
    "\n",
    "- Version control your code\n",
    "- Host the code in a repository\n",
    "- Include a license\n",
    "- Include a readme explaining how to run the code\n",
    "- Make it easy to others to run your code (e.g. use Jupyter/Colab notebooks and RMarkdown)"
   ]
  },
  {
   "cell_type": "markdown",
   "metadata": {
    "slideshow": {
     "slide_type": "subslide"
    }
   },
   "source": [
    "# And finally...\n",
    "\n",
    "- Learn something\n",
    "- Get to know your collaborators\n",
    "- Enjoy yourself!\n",
    "\n",
    "> A “datathon” model to support cross-disciplinary collaboration. Science Translational Medicine (2016). [DOI: 10.1126/scitranslmed.aad9072](http://dx.doi.org/10.1126/scitranslmed.aad9072)\n",
    "\n",
    "![datathon](./images/datathon.jpg)"
   ]
  }
 ],
 "metadata": {
  "celltoolbar": "Slideshow",
  "kernelspec": {
   "display_name": "Python 3",
   "language": "python",
   "name": "python3"
  },
  "language_info": {
   "codemirror_mode": {
    "name": "ipython",
    "version": 3
   },
   "file_extension": ".py",
   "mimetype": "text/x-python",
   "name": "python",
   "nbconvert_exporter": "python",
   "pygments_lexer": "ipython3",
   "version": "3.6.5"
  }
 },
 "nbformat": 4,
 "nbformat_minor": 2
}
