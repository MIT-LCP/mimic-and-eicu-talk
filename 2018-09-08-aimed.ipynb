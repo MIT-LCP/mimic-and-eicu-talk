{
 "cells": [
  {
   "cell_type": "markdown",
   "metadata": {
    "slideshow": {
     "slide_type": "slide"
    }
   },
   "source": [
    "# MIMIC-III and eICU-CRD: Freely available critical care databases\n",
    "\n",
    "## Tom Pollard\n",
    "\n",
    "### MIT Laboratory for Computational Physiology (MIT-LCP)\n",
    "\n",
    "<img style=\"float: right; height: 100px\" src=\"./images/MIT-LCP-logo.png\">\n",
    "\n",
    "#### AIMed Datathon: Sat 8 Sept 2018"
   ]
  },
  {
   "cell_type": "markdown",
   "metadata": {
    "slideshow": {
     "slide_type": "slide"
    }
   },
   "source": [
    "# Overview\n",
    "\n",
    "1. Programme\n",
    "1. Datasets\n",
    "    - MIMIC-III\n",
    "    - eICU Collaborative Research Database\n",
    "2. Key points\n",
    "    - Context\n",
    "    - Distribution and access\n",
    "3. How are people using the data?\n",
    "4. Navigating the data \n",
    "5. Reproducibility and final points"
   ]
  },
  {
   "cell_type": "markdown",
   "metadata": {
    "slideshow": {
     "slide_type": "slide"
    }
   },
   "source": [
    "# Programme"
   ]
  },
  {
   "cell_type": "markdown",
   "metadata": {
    "slideshow": {
     "slide_type": "subslide"
    }
   },
   "source": [
    "## Today\n",
    "**08:30**: Registration  \n",
    "\n",
    "**09:00**: Overview of the datasets (Tom)  \n",
    "**09:30**: Pitching  \n",
    "**10:00**: Coffee and team formation  \n",
    "**10:30**: Tutorial (Google Cloud)\n",
    "\n",
    "**11:00**: Start projects!  \n",
    "\n",
    "**13:00**: Lunch  \n",
    "**18:00**: Drinks "
   ]
  },
  {
   "cell_type": "markdown",
   "metadata": {
    "slideshow": {
     "slide_type": "subslide"
    }
   },
   "source": [
    "## Tomorrow\n",
    "\n",
    "**09:00**: Projects\n",
    "\n",
    "**12:00**: Lunch  \n",
    "\n",
    "**15:00**: Final presentations  \n",
    "**16:00**: Post-datathon guidance (Google Cloud)  \n",
    "**16:30**: Awards and closing  "
   ]
  },
  {
   "cell_type": "markdown",
   "metadata": {
    "slideshow": {
     "slide_type": "slide"
    }
   },
   "source": [
    "# Datasets"
   ]
  },
  {
   "cell_type": "markdown",
   "metadata": {
    "slideshow": {
     "slide_type": "subslide"
    }
   },
   "source": [
    "## `http://mimic.physionet.org`\n",
    "\n",
    "![MIMIC website](./images/mimicwebsite.png) "
   ]
  },
  {
   "cell_type": "markdown",
   "metadata": {
    "slideshow": {
     "slide_type": "subslide"
    }
   },
   "source": [
    "# MIMIC-III (**v1.4**)\n",
    "\n",
    "MIMIC-III = Medical Information Mart for Intensive Care\n",
    "\n",
    "- Freely available! \n",
    "- **Single Centre**: Beth Israel Deaconess Medical Centre\n",
    "    - U.S. Based (Boston, MA)\n",
    "    - Has MICU, SICU, CCU, CSRU, TSICU, ...\n",
    "- **Detailed in-ICU** information derived from: electronic medical records, critical care information systems, lab system,...\n",
    "- **Limited out-of-ICU** information (social security death masterfile)\n",
    "- \\>60,000 ICU stays, \\>40,000 patients (2002-2012)"
   ]
  },
  {
   "cell_type": "markdown",
   "metadata": {
    "slideshow": {
     "slide_type": "subslide"
    }
   },
   "source": [
    "## `http://eicu-crd.mit.edu`\n",
    "\n",
    "![eICU-CRD website](./images/eicuwebsite.png)"
   ]
  },
  {
   "cell_type": "markdown",
   "metadata": {
    "slideshow": {
     "slide_type": "subslide"
    }
   },
   "source": [
    "# eICU Collaborative Research Database (**v2.0**)\n",
    "\n",
    "- Freely available! \n",
    "- **Multi-Centre**: Sourced from Philips eICU Telehealth Program.\n",
    "    - \\> 250 ICUs across the United States\n",
    "    - Has MICU, SICU, CCU, ...\n",
    "- **Detailed in-ICU** information derived from: electronic medical records, critical care information systems\n",
    "- **Limited outside-of-ICU** information.\n",
    "- **~200,000 stays between 2014 and 2015** (private dataset x10 larger)\n",
    "- **Wide variation in data quality** between hospitals"
   ]
  },
  {
   "cell_type": "markdown",
   "metadata": {
    "slideshow": {
     "slide_type": "subslide"
    }
   },
   "source": [
    "# Why put effort into sharing these datasets?\n",
    "\n",
    "- For reproducibility.\n",
    "- For benchmarking.\n",
    "- For education.\n",
    "- For collaboration.\n",
    "- To encourage others to do likewise.\n",
    "\n",
    "... and ultimately to **accelerate progress in health research**."
   ]
  },
  {
   "cell_type": "markdown",
   "metadata": {
    "slideshow": {
     "slide_type": "slide"
    }
   },
   "source": [
    "# Key points"
   ]
  },
  {
   "cell_type": "markdown",
   "metadata": {
    "slideshow": {
     "slide_type": "subslide"
    }
   },
   "source": [
    "# Real patients\n",
    "\n",
    "\n",
    "![ICU patients](./images/icu_patient.png)"
   ]
  },
  {
   "cell_type": "markdown",
   "metadata": {
    "slideshow": {
     "slide_type": "subslide"
    }
   },
   "source": [
    "# Real data\n",
    "\n",
    "![MIMIC on Reddit](./images/reddit.png)\n",
    "\n",
    "- The data does not come in nice, tidy spreadsheets.\n",
    "- The data was not collected especially for us to use for research."
   ]
  },
  {
   "cell_type": "markdown",
   "metadata": {
    "slideshow": {
     "slide_type": "subslide"
    }
   },
   "source": [
    "# Getting access\n",
    "\n",
    "- Sign a Data Use Agreement \n",
    "- Take a free, online course in human research\n",
    "- Data typically shared as CSVs with build scripts\n",
    "- Updates are by formal versioned releases\n",
    "\n",
    "![MIMIC Data Use Agreement](./images/mimicdua.png)\n"
   ]
  },
  {
   "cell_type": "markdown",
   "metadata": {
    "slideshow": {
     "slide_type": "subslide"
    }
   },
   "source": [
    "# Datathon access\n",
    "\n",
    "![Google Cloud](./images/google_cloud.png)"
   ]
  },
  {
   "cell_type": "markdown",
   "metadata": {
    "slideshow": {
     "slide_type": "slide"
    }
   },
   "source": [
    "# How are people using the data?"
   ]
  },
  {
   "cell_type": "markdown",
   "metadata": {
    "slideshow": {
     "slide_type": "subslide"
    }
   },
   "source": [
    "# Global Open Source Severity of Illness Score (GOSSIS)\n",
    "\n",
    "- How GOSSIS differs from APACHE-IV:\n",
    "    - Uses more heterogeneous data.\n",
    "    - Uses min/max (mostly) instead of 'worst'.\n",
    "    - Does not bin predictors.\n",
    "    - Integrates other sources of information for missing data, instead of assuming 'normal'.\n",
    "    - Takes a hierarchical approach for diagnoses\n",
    "\n",
    "![GOSSIS](./images/gossis.png)"
   ]
  },
  {
   "cell_type": "markdown",
   "metadata": {
    "slideshow": {
     "slide_type": "subslide"
    }
   },
   "source": [
    "# Evaluating sepsis criteria\n",
    "\n",
    "- Compared five methods of identifying sepsis in electronic health records\n",
    "- Found large variation in cohort sizes and severity of illness as measured by in-hospital mortality rate\n",
    "- Sepsis studies should recognize the differences in identification methods and contextualize their findings according to the different cohorts identified.\n",
    "\n",
    "![Sepsis-3](./images/sepsis3.png)\n",
    "\n",
    "> Johnson AEW, Aboab J, Raffa J, Pollard T, Deliberato R, Celi LA, Stone, D. A Comparative Analysis of Sepsis Identification Methods in an Electronic Database. Critical Care Medicine (2018). http://dx.doi.org/10.1097/CCM.0000000000002965"
   ]
  },
  {
   "cell_type": "markdown",
   "metadata": {
    "slideshow": {
     "slide_type": "subslide"
    }
   },
   "source": [
    "# Conferences (e.g. of 26 papers MLHC 2017...)\n",
    "\n",
    "- [Continuous State-Space Models for Optimal Sepsis Treatment: a Deep Reinforcement Learning Approach](http://proceedings.mlr.press/v68/raghu17a/raghu17a.pdf)\n",
    "- [Generating Multi-label Discrete Patient Records using Generative Adversarial Networks](http://proceedings.mlr.press/v68/choi17a/choi17a.pdf)\n",
    "- [Marked Point Process for Severity of Illness Assessment](http://proceedings.mlr.press/v68/islam17a/islam17a.pdf)\n",
    "- [Piecewise-constant parametric approximations for survival learning](http://proceedings.mlr.press/v68/weiss17a/weiss17a.pdf)\n",
    "- [Diagnostic Inferencing via Improving Clinical Concept Extraction with Deep Reinforcement Learning: A Preliminary Study](http://proceedings.mlr.press/v68/ling17a/ling17a.pdf)\n",
    "- [Clinical Intervention Prediction and Understanding with Deep Neural Networks](http://proceedings.mlr.press/v68/suresh17a/suresh17a.pdf)\n",
    "- [Reproducibility in critical care: a mortality prediction case study](http://proceedings.mlr.press/v68/johnson17a/johnson17a.pdf)\n",
    "\n",
    "![MLHC 2017](./images/MLHC.png)\n",
    "\n"
   ]
  },
  {
   "cell_type": "markdown",
   "metadata": {
    "slideshow": {
     "slide_type": "slide"
    }
   },
   "source": [
    "# Navigating the data (focusing on MIMIC)"
   ]
  },
  {
   "cell_type": "markdown",
   "metadata": {
    "slideshow": {
     "slide_type": "subslide"
    }
   },
   "source": [
    "# `patients`, `admissions` and `icustays` \n",
    "\n",
    "![patient tracking tables](./images/subj_hadm_icustays.png)"
   ]
  },
  {
   "cell_type": "markdown",
   "metadata": {
    "slideshow": {
     "slide_type": "subslide"
    }
   },
   "source": [
    "# Events tables\n",
    "\n",
    "- `chartevents`: Charted observations for a patient\n",
    "- `labevents`: Lab measurements both within hospital and (sometimes) outpatient clinics\n",
    "- `inputevents`: Input fluids (e.g. intravenous medications)\n",
    "- `microbiologyevents`: Microbiology measurements and sensitivities\n",
    "- <s>`noteevents`</s>: Deidentified patient notes"
   ]
  },
  {
   "cell_type": "markdown",
   "metadata": {
    "slideshow": {
     "slide_type": "subslide"
    }
   },
   "source": [
    "# Other tables\n",
    "\n",
    "- `diagnoses_icd`: Hospital assigned diagnosis codes.\n",
    "- `procedures_icd`: Hospital assigned procedure codes\n",
    "- `caregivers`: Caregivers who have recorded data\n",
    "- `prescriptions`: Medications ordered for a patient\n",
    "- ...\n",
    "\n",
    "More tables and full documentation: https://mimic.physionet.org/"
   ]
  },
  {
   "cell_type": "markdown",
   "metadata": {
    "slideshow": {
     "slide_type": "subslide"
    }
   },
   "source": [
    "# Dictionary tables\n",
    "\n",
    "- `d_cpt`\n",
    "- `d_icd_diagnoses`\n",
    "- `d_icd_procedures`\n",
    "- `d_items`\n",
    "- `d_labitems`\n",
    "\n",
    "Lookup tables for main tables."
   ]
  },
  {
   "cell_type": "markdown",
   "metadata": {
    "slideshow": {
     "slide_type": "subslide"
    }
   },
   "source": [
    "# `SELECT * FROM d_items WHERE label ILIKE '%heart%'`\n",
    "\n",
    "![heartrate](./images/query_d_items.png)"
   ]
  },
  {
   "attachments": {},
   "cell_type": "markdown",
   "metadata": {
    "slideshow": {
     "slide_type": "subslide"
    }
   },
   "source": [
    "# `SELECT * FROM chartevents WHERE itemid IN (211,220045)`\n",
    "\n",
    "![image.png](./images/query_chartevents.png)\n",
    "\n",
    "Please use the code repository!"
   ]
  },
  {
   "attachments": {},
   "cell_type": "markdown",
   "metadata": {
    "slideshow": {
     "slide_type": "subslide"
    }
   },
   "source": [
    "# Putting it together\n",
    "\n",
    "![verbal](./images/examplepatient.jpeg)"
   ]
  },
  {
   "cell_type": "markdown",
   "metadata": {
    "slideshow": {
     "slide_type": "subslide"
    }
   },
   "source": [
    "# Read the docs!\n",
    "\n",
    "![read the docs](./images/mimicdocs.png)"
   ]
  },
  {
   "cell_type": "markdown",
   "metadata": {
    "slideshow": {
     "slide_type": "subslide"
    }
   },
   "source": [
    "# Don't start from scratch\n",
    "\n",
    "![MIMIC Code Repository](./images/coderepo.png)"
   ]
  },
  {
   "cell_type": "markdown",
   "metadata": {
    "slideshow": {
     "slide_type": "subslide"
    }
   },
   "source": [
    "# Concepts\n",
    "\n",
    "- Code for: severity of illness scales, sepsis definitions, available in code repository.\n",
    "- Also available on BigQuery. No need to run code to get concepts!\n",
    "\n",
    "- I often use:\n",
    "    - Elixhauser (comorbidity burden index)\n",
    "    - SOFA\n",
    "    - OASIS (alternative to APACHE)\n",
    "    - Angus sepsis definition\n",
    "    - Ventilation durations\n",
    "    \n",
    "- Tutorials online:\n",
    "    - e.g. Notebooks at: https://eicu-crd.mit.edu/tutorials/admissiondrug/\n",
    "\n",
    "**Please use these resources!** We are happy to incorporate your contributions to improve the concepts!"
   ]
  },
  {
   "cell_type": "markdown",
   "metadata": {
    "slideshow": {
     "slide_type": "subslide"
    }
   },
   "source": [
    "# FAQs\n",
    "\n",
    "**Q1. I think there is something wrong with the dates. They are all in 21xx.**    \n",
    "A1. This is part of the deidentification process. Within a patient all intervals are preserved. Between patients, the intervals are not relevant.\n",
    "\n",
    "**Q2. Why are there patients that are 300 years old?**  \n",
    "A2. This is part of the deidentification process. Under HIPAA, a patient’s age > 89 is protected health information. Be careful with analysis of age!\n",
    "\n",
    "**Q3. How do I find a patient’s first ICU stay?**  \n",
    "A3. Use the icustay_detail concept table and have a look at: icustay_seq\n",
    "\n",
    "**Q4. How do I continue on with my project after the datathon?**   \n",
    "A4. We’ll talk more about it tomorrow, but for MIMIC III and eICU-CRD you would need to sign a similar data use agreement and take a course on research on human research."
   ]
  },
  {
   "cell_type": "markdown",
   "metadata": {
    "slideshow": {
     "slide_type": "subslide"
    }
   },
   "source": [
    "# MIMIC: strengths and limitations\n",
    "\n",
    "**Strengths**:  \n",
    "1. Well-developed documentation and codebase.\n",
    "2. Large community and literature.\n",
    "3. Provider notes available **\n",
    "\n",
    "**Limitations**:  \n",
    "1. Data is slightly stale (2001-2012).\n",
    "2. Smaller sample size when compared with eICU database.\n",
    "3. Switchover from Carevue to Metavision can complicate extraction.\n",
    "4. Generated from a single center.\n",
    "5. Diagnoses only available at end of patient stay."
   ]
  },
  {
   "cell_type": "markdown",
   "metadata": {
    "slideshow": {
     "slide_type": "subslide"
    }
   },
   "source": [
    "# eICU Database: strengths and limitations\n",
    "\n",
    "**Strengths**:  \n",
    "1. Recent data (2014-2015).    \n",
    "2. Well documented severity (APACHE) scores for all patients.\n",
    "3. carePlanGeneral table contains treatment plans\n",
    "4. Diagnoses available during the patient stay.\n",
    "\n",
    "**Limitations**: \n",
    "1. Underdeveloped documentation and code.\n",
    "2. Little prior literature using the data (perhaps good, also!).  \n",
    "3. Data quality is highly variable between hospitals.  "
   ]
  },
  {
   "cell_type": "markdown",
   "metadata": {
    "slideshow": {
     "slide_type": "slide"
    }
   },
   "source": [
    "# Reproducibility\n",
    "\n"
   ]
  },
  {
   "cell_type": "markdown",
   "metadata": {
    "slideshow": {
     "slide_type": "subslide"
    }
   },
   "source": [
    "# Reproducibility in critical care\n",
    "\n",
    "- Review 28 published mortality prediction models using MIMIC. \n",
    "- Attempt to reproduce the cohorts (+ bonus, compare performance to logistic regression).\n",
    "- 75% of reproduced cohorts differed by >1000 patients. Percent mortality differed by up to ~20%. \n",
    "\n",
    "![MLHC results](./images/mlhc-paper-results.png)\n",
    "\n",
    "> Johnson AEW, Pollard T, Mark RG. Reproducibility in critical care: a mortality prediction case study. Proceedings of the 2nd Machine Learning for Healthcare Conference (2017)."
   ]
  },
  {
   "cell_type": "markdown",
   "metadata": {
    "slideshow": {
     "slide_type": "subslide"
    }
   },
   "source": [
    "# Practical steps\n",
    "\n",
    "- Version control your code\n",
    "- Host your code in a repository\n",
    "- Be clear about the version of data you are using\n",
    "- Include a license\n",
    "- Include a readme explaining how to run the code\n",
    "- Make it easy to others to run your code (e.g. use Jupyter/Colab notebooks and RMarkdown)"
   ]
  },
  {
   "cell_type": "markdown",
   "metadata": {
    "slideshow": {
     "slide_type": "subslide"
    }
   },
   "source": [
    "# And finally...\n",
    "\n",
    "- Learn something\n",
    "- Get to know your collaborators\n",
    "- Enjoy yourself!\n",
    "\n",
    "> A “datathon” model to support cross-disciplinary collaboration. Science Translational Medicine (2016). [DOI: 10.1126/scitranslmed.aad9072](http://dx.doi.org/10.1126/scitranslmed.aad9072)\n",
    "\n",
    "![datathon](./images/datathon.jpg)"
   ]
  }
 ],
 "metadata": {
  "celltoolbar": "Slideshow",
  "kernelspec": {
   "display_name": "Python 3",
   "language": "python",
   "name": "python3"
  },
  "language_info": {
   "codemirror_mode": {
    "name": "ipython",
    "version": 3
   },
   "file_extension": ".py",
   "mimetype": "text/x-python",
   "name": "python",
   "nbconvert_exporter": "python",
   "pygments_lexer": "ipython3",
   "version": "3.6.5"
  }
 },
 "nbformat": 4,
 "nbformat_minor": 2
}
