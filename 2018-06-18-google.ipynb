{
 "cells": [
  {
   "cell_type": "markdown",
   "metadata": {
    "slideshow": {
     "slide_type": "slide"
    }
   },
   "source": [
    "# How are MIMIC and eICU-CRD used?\n",
    "\n",
    "### MIT Laboratory for Computational Physiology (MIT-LCP)\n",
    "#### Tuesday 19 June 2018"
   ]
  },
  {
   "cell_type": "markdown",
   "metadata": {
    "slideshow": {
     "slide_type": "slide"
    }
   },
   "source": [
    "# Overview\n",
    "\n",
    "- datasets\n",
    "- courses\n",
    "- events\n",
    "- research\n",
    "- success\n",
    "- challenges"
   ]
  },
  {
   "cell_type": "markdown",
   "metadata": {
    "slideshow": {
     "slide_type": "slide"
    }
   },
   "source": [
    "# Datasets"
   ]
  },
  {
   "cell_type": "markdown",
   "metadata": {
    "slideshow": {
     "slide_type": "subslide"
    }
   },
   "source": [
    "# MIMIC-III\n",
    "\n",
    "- Comprehensive, freely-available dataset. Sourced from Beth Israel Deaconess Medical Center.\n",
    "- \\>60,000 ICU stays, \\>40,000 patients (2002-2012)\n",
    "- More data coming soon (2012-2018, OR, ED, Chest X-rays)\n",
    "\n",
    "![MIMIC website](./images/mimicwebsite.png)\n"
   ]
  },
  {
   "cell_type": "markdown",
   "metadata": {
    "slideshow": {
     "slide_type": "subslide"
    }
   },
   "source": [
    "# eICU Collaborative Research Database\n",
    "\n",
    "- Freely-available multi-center dataset. Sourced from Philips eICU Telehealth Program\n",
    "- Public dataset is \\>200,000 stays across \\>250 hospitals. Private dataset x10 larger\n",
    "- Wide variation in data quality between hospitals\n",
    "\n",
    "![eICU-CRD website](./images/eicuwebsite.png)\n"
   ]
  },
  {
   "cell_type": "markdown",
   "metadata": {
    "slideshow": {
     "slide_type": "subslide"
    }
   },
   "source": [
    "# More datasets on PhysioNet\n",
    "\n",
    "- Physiological datasets published on http://physionet.org (in process of rebuild!)\n",
    "- Emphasis on waveforms (ECG, EEG, etc)\n",
    "- 3 levels of access: Public; PhysioNet account; Credentialed user\n",
    "\n",
    "![PhysioNet](./images/physionet.png)\n"
   ]
  },
  {
   "cell_type": "markdown",
   "metadata": {
    "slideshow": {
     "slide_type": "slide"
    }
   },
   "source": [
    "# Technical notes"
   ]
  },
  {
   "cell_type": "markdown",
   "metadata": {
    "slideshow": {
     "slide_type": "subslide"
    }
   },
   "source": [
    "# Building\n",
    "\n",
    "- PostgreSQL\n",
    "- Testing framework on Continuous Integration server (Jenkins/Travis)\n",
    "- git for version control\n",
    "- Issues tracked on private GitHub repository\n",
    "- Deidentification using custom software (in active development)"
   ]
  },
  {
   "cell_type": "markdown",
   "metadata": {
    "slideshow": {
     "slide_type": "subslide"
    }
   },
   "source": [
    "# Distributing \n",
    "\n",
    "- Gaining access requires signing a Data Use Agreement and taking a free, online course in human research\n",
    "- Access requests are handled by a lab administrator\n",
    "- Data typically shared as CSVs with build scripts\n",
    "- Experimenting with various cloud options\n",
    "- Updates are by formal versioned releases\n",
    "- Web-based \"[Querybuilder](https://mimic.physionet.org/tools/querybuilder/)\" for new users\n",
    "\n",
    "![MIMIC Data Use Agreement](./images/mimicdua.png)\n"
   ]
  },
  {
   "cell_type": "markdown",
   "metadata": {
    "slideshow": {
     "slide_type": "subslide"
    }
   },
   "source": [
    "# Supporting reuse\n",
    "\n",
    "- Code repositories (e.g. MIMIC Code Repository)\n",
    "- Tools to facilitate analysis (Python WFDB Toolbox; tableone)\n",
    "- Data mapping efforts (e.g. OMOP)\n",
    "\n",
    "\n",
    "![MIMIC Code Repository](./images/mimiccoderepo.png)"
   ]
  },
  {
   "cell_type": "markdown",
   "metadata": {
    "slideshow": {
     "slide_type": "slide"
    }
   },
   "source": [
    "# Courses\n"
   ]
  },
  {
   "cell_type": "markdown",
   "metadata": {
    "slideshow": {
     "slide_type": "subslide"
    }
   },
   "source": [
    "# HST-953: Collaborative Data Science in Medicine\n",
    "\n",
    "- Run in 2016 and 2017, Sept-Dec. ~30 participants each year\n",
    "\n",
    "> Clinicians face difficult treatment decisions in contexts that are not well addressed by available evidence. The digitization of medicine provides an opportunity to find solutions to previously ambiguous questions. This course covers material from clinical epidemiology, biostatistics and machine learning as applied to electronic health record data.\n",
    "\n",
    "![HST953](./images/hst953.jpg)"
   ]
  },
  {
   "cell_type": "markdown",
   "metadata": {
    "slideshow": {
     "slide_type": "subslide"
    }
   },
   "source": [
    "# HST-953 Syllabus\n",
    "\n",
    "1. (a) Introduction\n",
    "   (b) Machine Learning that Matters\n",
    "   (c) Software Setup\n",
    "\n",
    "2. (a) Observational Data\n",
    "   (b) Project Pitches\n",
    "   (c) Introduction to SQL\n",
    "\n",
    "3. (a) Formulating a Question\n",
    "   (b) Defining a Cohort\n",
    "   (c) Intermediate SQL\n",
    "\n",
    "4. (a) Hospital Panel: Sources of Data\n",
    "   (b) Data Preparation\n",
    "   (c) Text & NLP\n",
    "\n",
    "5. (a) Reproducibility\n",
    "   (b) Preprocessing; Missing Data\n",
    "   (c) Data visualization\n",
    "\n",
    "6. (a) Noise and Outliers\n",
    "   (b) Regression\n",
    "   (c) Exploratory Data Analysis\n",
    "\n",
    "7. (a) Predictive Analytics\n",
    "   (b) Data Analysis\n",
    "   (c) Prediction\n",
    "\n",
    "8. (a) Advanced Data Analysis Approaches\n",
    "   (b,c) Propensity Scores\n",
    "\n",
    "9. (a) Blood Pressure and AKI\n",
    "   (b) Validation and Sensitivity\n",
    "   (c) Project Mentoring\n",
    "\n",
    "10. (a) Trend Analysis\n",
    "    (b) Instrumental Variables\n",
    "    (c) Project Mentoring\n",
    "\n",
    "11. Final Project Presentations"
   ]
  },
  {
   "cell_type": "markdown",
   "metadata": {
    "slideshow": {
     "slide_type": "subslide"
    }
   },
   "source": [
    "# \\>20 courses worldwide using MIMIC\n",
    "\n",
    "- Columbia University (Noémie Elhadad). [BINF G4002 Methods II: Computational Methods in Biomedical Informatics](https://www.dbmi.columbia.edu/for-current-staff-students/courses/)\n",
    "- Georgia Tech (Jimeng Sun). [CSE8803 Big Data Analytics for Healthcare](http://www.sunlab.org/teaching/cse8803/)\n",
    "- Stanford (Nigam Shah). [BIOMEDIN 215 Data Driven Medicine](http://shahlab.stanford.edu/biomedin215)\n",
    "- University of Texas at Austin (Joydeep Ghosh). [EE 381V: (Advanced Data Mining](http://hercules.ece.utexas.edu/ghosh/bdah-f15.htm)\n",
    "- Berkeley. [Data Science W266: Natural Language Processing with Deep Learning](https://www.ischool.berkeley.edu/courses/datasci/266)\n",
    "- Ludwig Maximilian University of Munich. [Recent Developments in Biostatistics (elective for \"Clinical Epidemiology\" MSc)](http://www.en.msc-epidemiologie.med.uni-muenchen.de/msc/programme/modules/index.html)\n",
    "- Yale Center for Medical Informatics (Cynthia Brandt & Kei-Hoi Cheung). CBB750 Core Topics in Biomedical Informatics and Data Science.\n",
    "- George Washington University (L Davidson). [INFR 6101. Principles of Medical Informatics](https://my.gwu.edu/mod/pws/courses.cfm?campId=1&termId=201701&subjId=INFR)\n",
    "- Seville University (José Troyano). [Applied Data Mining](http://www.us.es/estudios/grados/plan_226/asignatura_2260060).\n",
    "- Imperial College London (Laure de Preux). [BS1812 Healthcare and Medical Analytics](http://www.imperial.ac.uk/people/l.depreux/teaching.html)\n",
    "- Udacity. [Health Informatics in the Cloud](https://www.udacity.com/course/health-informatics-in-the-cloud--ud809#)"
   ]
  },
  {
   "cell_type": "markdown",
   "metadata": {
    "slideshow": {
     "slide_type": "slide"
    }
   },
   "source": [
    "# Events"
   ]
  },
  {
   "cell_type": "markdown",
   "metadata": {
    "slideshow": {
     "slide_type": "subslide"
    }
   },
   "source": [
    "# Datathons\n",
    "\n",
    "- Create interdisciplinary teams to work together on real clinical problems\n",
    "- Run in collaboration with UK Intensive Care Society, Australia and NZ Intensive Care Society, etc\n",
    "- Raise awareness. Build partnerships. Work towards integrated, international datasets\n",
    "\n",
    "> A “datathon” model to support cross-disciplinary collaboration. Science Translational Medicine (2016). [DOI: 10.1126/scitranslmed.aad9072](http://dx.doi.org/10.1126/scitranslmed.aad9072)\n",
    "\n",
    "![datathon](./images/datathon.jpg)"
   ]
  },
  {
   "cell_type": "markdown",
   "metadata": {
    "slideshow": {
     "slide_type": "subslide"
    }
   },
   "source": [
    "# Competitions\n",
    "\n",
    "![IEEE Challenge](./images/ieee-challenge.png)"
   ]
  },
  {
   "cell_type": "markdown",
   "metadata": {
    "slideshow": {
     "slide_type": "slide"
    }
   },
   "source": [
    "# Research and projects"
   ]
  },
  {
   "cell_type": "markdown",
   "metadata": {
    "slideshow": {
     "slide_type": "subslide"
    }
   },
   "source": [
    "# Global Open Source Severity of Illness Score (GOSSIS)\n",
    "\n",
    "- How GOSSIS differs from APACHE-IV:\n",
    "    - Uses more heterogeneous data.\n",
    "    - Uses min/max (mostly) instead of 'worst'.\n",
    "    - Does not bin predictors.\n",
    "    - Integrates other sources of information for missing data, instead of assuming 'normal'.\n",
    "    - Takes a hierarchical approach for diagnoses\n",
    "\n",
    "![GOSSIS](./images/gossis.png)"
   ]
  },
  {
   "cell_type": "markdown",
   "metadata": {
    "slideshow": {
     "slide_type": "subslide"
    }
   },
   "source": [
    "# Evaluating sepsis criteria\n",
    "\n",
    "- Assessed five methods of identifying sepsis in electronic health records, and found that all five had varying cohort sizes and severity of illness as measured by in-hospital mortality rate\n",
    "- Future studies on sepsis should recognize the differences in outcome incidence among identification methods and contextualize their findings according to the different cohorts identified.\n",
    "\n",
    "![Sepsis-3](./images/sepsis3.png)\n",
    "\n",
    "> Johnson AEW, Aboab J, Raffa J, Pollard T, Deliberato R, Celi LA, Stone, D. A Comparative Analysis of Sepsis Identification Methods in an Electronic Database. Critical Care Medicine (2018). http://dx.doi.org/10.1097/CCM.0000000000002965"
   ]
  },
  {
   "cell_type": "markdown",
   "metadata": {
    "slideshow": {
     "slide_type": "subslide"
    }
   },
   "source": [
    "# Reproducibility in critical care\n",
    "\n",
    "- Review 28 published mortality prediction models using MIMIC. \n",
    "- Attempt to reproduce the cohorts (+ bonus, compare performance to logistic regression).\n",
    "- 75% of reproduced cohorts differed by >1000 patients. Percent mortality differed by up to ~20%. \n",
    "\n",
    "![MLHC results](./images/mlhc-paper-results.png)\n",
    "\n",
    "> Johnson AEW, Pollard T, Mark RG. Reproducibility in critical care: a mortality prediction case study. Proceedings of the 2nd Machine Learning for Healthcare Conference (2017)."
   ]
  },
  {
   "cell_type": "markdown",
   "metadata": {
    "slideshow": {
     "slide_type": "slide"
    }
   },
   "source": [
    "# Success"
   ]
  },
  {
   "cell_type": "markdown",
   "metadata": {
    "slideshow": {
     "slide_type": "subslide"
    }
   },
   "source": [
    "# Credentialed MIMIC users\n",
    "\n",
    "![MIMIC users](./images/mimicusers.png)"
   ]
  },
  {
   "cell_type": "markdown",
   "metadata": {
    "slideshow": {
     "slide_type": "subslide"
    }
   },
   "source": [
    "# Conferences (e.g. of 26 papers MLHC 2017...)\n",
    "\n",
    "- [Piecewise-constant parametric approximations for survival learning](http://proceedings.mlr.press/v68/weiss17a/weiss17a.pdf)\n",
    "- [Continuous State-Space Models for Optimal Sepsis Treatment: a Deep Reinforcement Learning Approach](http://proceedings.mlr.press/v68/raghu17a/raghu17a.pdf)\n",
    "- [Marked Point Process for Severity of Illness Assessment](http://proceedings.mlr.press/v68/islam17a/islam17a.pdf)\n",
    "- [Diagnostic Inferencing via Improving Clinical Concept Extraction with Deep Reinforcement Learning: A Preliminary Study](http://proceedings.mlr.press/v68/ling17a/ling17a.pdf)\n",
    "- [Generating Multi-label Discrete Patient Records using Generative Adversarial Networks](http://proceedings.mlr.press/v68/choi17a/choi17a.pdf)\n",
    "- [Clinical Intervention Prediction and Understanding with Deep Neural Networks](http://proceedings.mlr.press/v68/suresh17a/suresh17a.pdf)\n",
    "- [Reproducibility in critical care: a mortality prediction case study](http://proceedings.mlr.press/v68/johnson17a/johnson17a.pdf)\n",
    "\n",
    "![MLHC 2017](./images/MLHC.png)\n"
   ]
  },
  {
   "cell_type": "markdown",
   "metadata": {
    "slideshow": {
     "slide_type": "subslide"
    }
   },
   "source": [
    "# Reuse in publications\n",
    "\n",
    "- ~277 citations on Google Scholar to \"MIMIC-III, a freely accessible critical care database. Scientific data (2016)\".\n",
    "\n",
    "![MIMIC-III citations](./images/mimiccitations.png)\n",
    "\n"
   ]
  },
  {
   "cell_type": "markdown",
   "metadata": {
    "slideshow": {
     "slide_type": "slide"
    }
   },
   "source": [
    "# Challenges"
   ]
  },
  {
   "cell_type": "markdown",
   "metadata": {
    "slideshow": {
     "slide_type": "subslide"
    }
   },
   "source": [
    "# Challenges\n",
    "\n",
    "- Process for handling data requests is cumbersome.\n",
    "- Building databases is time-consuming and requires expert knowledge.\n",
    "- Data is complex and easily misinterpreted.\n",
    "- Tracking reuse and demonstrating impact is non-trivial.\n",
    "- How do we release more data; support the community; and do research?\n",
    "\n",
    "![MIMIC on Reddit](./images/reddit.png)"
   ]
  }
 ],
 "metadata": {
  "celltoolbar": "Slideshow",
  "kernelspec": {
   "display_name": "Python 3",
   "language": "python",
   "name": "python3"
  },
  "language_info": {
   "codemirror_mode": {
    "name": "ipython",
    "version": 3
   },
   "file_extension": ".py",
   "mimetype": "text/x-python",
   "name": "python",
   "nbconvert_exporter": "python",
   "pygments_lexer": "ipython3",
   "version": "3.6.5"
  }
 },
 "nbformat": 4,
 "nbformat_minor": 2
}
